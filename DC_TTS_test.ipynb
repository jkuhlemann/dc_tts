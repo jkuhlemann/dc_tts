{
  "nbformat": 4,
  "nbformat_minor": 0,
  "metadata": {
    "colab": {
      "name": "DC_TTS_test.ipynb",
      "provenance": [],
      "collapsed_sections": []
    },
    "kernelspec": {
      "name": "python3",
      "display_name": "Python 3"
    },
    "language_info": {
      "name": "python"
    },
    "accelerator": "GPU"
  },
  "cells": [
    {
      "cell_type": "markdown",
      "metadata": {
        "id": "H7nbaFrOfZtJ"
      },
      "source": [
        "# DC_TTS - a test on the pre-trained model which is based on the LJ speech dataset"
      ]
    },
    {
      "cell_type": "markdown",
      "metadata": {
        "id": "9rYinl7keOQx"
      },
      "source": [
        "**!!** **Remember to activate Hardware acceleration** **!!**\n",
        "Edit → Notebook Settings → select GPU from the hardware accelerator menu"
      ]
    },
    {
      "cell_type": "code",
      "metadata": {
        "id": "jQunD3-twV2A"
      },
      "source": [
        "# clone the repository\n",
        "!git clone https://github.com/jkuhlemann/dc_tts.git"
      ],
      "execution_count": null,
      "outputs": []
    },
    {
      "cell_type": "code",
      "metadata": {
        "id": "ZNFKOgHQOtGL"
      },
      "source": [
        "#create folders necessary for everything to work\n",
        "!mkdir /content/dc_tts/samples\n",
        "!mkdir /content/dc_tts/logdir\n",
        "!mkdir /data/\n",
        "!mkdir /data/private/\n",
        "!mkdir /data/private/voice/"
      ],
      "execution_count": 2,
      "outputs": []
    },
    {
      "cell_type": "code",
      "metadata": {
        "id": "Cgqxu11lx8yk"
      },
      "source": [
        "# download pre-trained model\n",
        "import urllib.request\n",
        "\n",
        "url = \"https://www.dropbox.com/s/1oyipstjxh2n5wo/LJ_logdir.tar?dl=1\"  \n",
        "\n",
        "u = urllib.request.urlopen(url)\n",
        "data = u.read()\n",
        "u.close()\n",
        " \n",
        "with open('/content/dc_tts/LJ_logdir.tar', \"wb\") as f :\n",
        "    f.write(data)"
      ],
      "execution_count": 3,
      "outputs": []
    },
    {
      "cell_type": "code",
      "metadata": {
        "id": "j1pHd1Ww--3Y"
      },
      "source": [
        "#extract the pre-trained model\n",
        "import zipfile\n",
        "with zipfile.ZipFile('/content/dc_tts/LJ_logdir.tar', 'r') as zip_ref:\n",
        "    zip_ref.extractall('/content/dc_tts/')"
      ],
      "execution_count": 4,
      "outputs": []
    },
    {
      "cell_type": "code",
      "metadata": {
        "id": "qlfyO1BsgqbR"
      },
      "source": [
        "#move the pre-trained model data to logdir folder\n",
        "!mv /content/dc_tts/LJ01-1 /content/dc_tts/logdir\n",
        "!mv /content/dc_tts/LJ01-2 /content/dc_tts/logdir"
      ],
      "execution_count": 5,
      "outputs": []
    },
    {
      "cell_type": "code",
      "metadata": {
        "id": "1Lt45CVjapZi"
      },
      "source": [
        "# function to use own sentences for TTS\n",
        "def sentences_to_synthesize():\n",
        "  x = input(\"Do you want to use the example sentences or synthesize your own sentences? Please choose(example/own): \")\n",
        "  if x == \"example\":\n",
        "    print(\"Good. Just go to the next cell then.\")\n",
        "    pass\n",
        "  elif x == \"own\":\n",
        "    n = 1\n",
        "    with open('/content/dc_tts/harvard_sentences.txt', 'w') as f:\n",
        "      f.write('The code ignores the first line in the .txt. This is just a line so that everything works \\n')\n",
        "\n",
        "    own_sentence = input(\"Alright. Please write your sentence here: \")\n",
        "    own_sentence = f\"{n}. {own_sentence} \\n\"\n",
        "    \n",
        "    with open('/content/dc_tts/harvard_sentences.txt', 'a') as f:\n",
        "      f.write(own_sentence)\n",
        "  while True:\n",
        "    more = input(\"Would you like to add another sentence? (y/n): \")\n",
        "    if more == 'y':\n",
        "      n = n + 1 \n",
        "      own_sentence = input(\"Write your sentence here: \")\n",
        "      own_sentence = f\"{n}. {own_sentence} \\n\"\n",
        "      with open('/content/dc_tts/harvard_sentences.txt', 'a') as f:\n",
        "        f.write(own_sentence)\n",
        "    elif more == 'n':\n",
        "      return\n",
        "\n",
        "  return\n",
        "  \n",
        "sentences_to_synthesize()"
      ],
      "execution_count": null,
      "outputs": []
    },
    {
      "cell_type": "code",
      "metadata": {
        "id": "ahRuD0QeLg0X"
      },
      "source": [
        "# manually switch to Tensorflow version 1.x since this is what the repo uses\n",
        "%tensorflow_version 1.x"
      ],
      "execution_count": null,
      "outputs": []
    },
    {
      "cell_type": "code",
      "metadata": {
        "id": "CmLvPecsI3BS"
      },
      "source": [
        "# synthesize the sentences specified in 'harvard_sentences.txt.'\n",
        "# you will find the resulting .wav files in /content/dc_tts/samples \n",
        "# or use the widget implementation below to play the audio\n",
        "!python /content/dc_tts/synthesize.py"
      ],
      "execution_count": null,
      "outputs": []
    },
    {
      "cell_type": "code",
      "metadata": {
        "id": "W_4y-I5ykCZx"
      },
      "source": [
        "from IPython.display import Audio, display\n",
        "# function to play desired audiofile\n",
        "def play_audio():\n",
        "  numb = input(\"Which audiofile would you like to listen to? (Choose number): \")\n",
        "  filepath = f\"/content/dc_tts/samples/{numb}.wav\"\n",
        "  return Audio(filepath)\n",
        "\n",
        "play_audio()"
      ],
      "execution_count": null,
      "outputs": []
    },
    {
      "cell_type": "markdown",
      "metadata": {
        "id": "SpWel_J0nPQs"
      },
      "source": [
        "That's it! We hope you enjoyed the testing the TTS model!"
      ]
    }
  ]
}