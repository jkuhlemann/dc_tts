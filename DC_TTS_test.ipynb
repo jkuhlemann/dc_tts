{
  "nbformat": 4,
  "nbformat_minor": 0,
  "metadata": {
    "colab": {
      "name": "DC_TTS_test.ipynb",
      "provenance": [],
      "collapsed_sections": []
    },
    "kernelspec": {
      "name": "python3",
      "display_name": "Python 3"
    },
    "language_info": {
      "name": "python"
    },
    "accelerator": "GPU"
  },
  "cells": [
    {
      "cell_type": "code",
      "metadata": {
        "colab": {
          "base_uri": "https://localhost:8080/"
        },
        "id": "jQunD3-twV2A",
        "outputId": "e6a8f811-58e7-405c-8519-01e970a832a3"
      },
      "source": [
        "# clone the repository\n",
        "!git clone https://github.com/jkuhlemann/dc_tts.git"
      ],
      "execution_count": null,
      "outputs": [
        {
          "output_type": "stream",
          "name": "stdout",
          "text": [
            "Cloning into 'dc_tts'...\n",
            "remote: Enumerating objects: 168, done.\u001b[K\n",
            "remote: Total 168 (delta 0), reused 0 (delta 0), pack-reused 168\u001b[K\n",
            "Receiving objects: 100% (168/168), 3.13 MiB | 3.95 MiB/s, done.\n",
            "Resolving deltas: 100% (95/95), done.\n"
          ]
        }
      ]
    },
    {
      "cell_type": "code",
      "metadata": {
        "id": "ZNFKOgHQOtGL"
      },
      "source": [
        "#create folder necessary for everything to work\n",
        "!mkdir /content/dc_tts/samples\n",
        "!mkdir /content/dc_tts/logdir\n",
        "!mkdir /data/\n",
        "!mkdir /data/private/\n",
        "!mkdir /data/private/voice/"
      ],
      "execution_count": null,
      "outputs": []
    },
    {
      "cell_type": "code",
      "metadata": {
        "id": "Cgqxu11lx8yk"
      },
      "source": [
        "# download pre-trained model\n",
        "import urllib.request\n",
        "\n",
        "url = \"https://www.dropbox.com/s/1oyipstjxh2n5wo/LJ_logdir.tar?dl=1\"  \n",
        "\n",
        "u = urllib.request.urlopen(url)\n",
        "data = u.read()\n",
        "u.close()\n",
        " \n",
        "with open('/content/dc_tts/LJ_logdir.tar', \"wb\") as f :\n",
        "    f.write(data)"
      ],
      "execution_count": null,
      "outputs": []
    },
    {
      "cell_type": "code",
      "metadata": {
        "id": "j1pHd1Ww--3Y"
      },
      "source": [
        "#extract the pre-trained model\n",
        "import zipfile\n",
        "with zipfile.ZipFile('/content/dc_tts/LJ_logdir.tar', 'r') as zip_ref:\n",
        "    zip_ref.extractall('/content/dc_tts/')"
      ],
      "execution_count": null,
      "outputs": []
    },
    {
      "cell_type": "code",
      "metadata": {
        "colab": {
          "base_uri": "https://localhost:8080/"
        },
        "id": "zyqEm-3UQkaZ",
        "outputId": "67a6f707-e02c-4039-ae82-dc48871a1f82"
      },
      "source": [
        "#download dataset \n",
        "url = 'https://data.keithito.com/data/speech/LJSpeech-1.1.tar.bz2'\n",
        "urllib.request.urlretrieve(url, '/content/dc_tts/LJSpeech-1.1.tar.bz2')"
      ],
      "execution_count": null,
      "outputs": [
        {
          "output_type": "execute_result",
          "data": {
            "text/plain": [
              "('/content/dc_tts/LJSpeech-1.1.tar.bz2',\n",
              " <http.client.HTTPMessage at 0x7f7ca7141ad0>)"
            ]
          },
          "metadata": {},
          "execution_count": 5
        }
      ]
    },
    {
      "cell_type": "code",
      "metadata": {
        "colab": {
          "base_uri": "https://localhost:8080/"
        },
        "id": "1Lt45CVjapZi",
        "outputId": "7b8da672-8cab-419d-8c22-616e1dced28e"
      },
      "source": [
        "# function to use own sentences for TTS\n",
        "def sentences_to_synthesize():\n",
        "  x = input(\"Do you want to use the example sentences or synthesize your own sentences? Please choose(example/own): \")\n",
        "  if x == \"example\":\n",
        "    print(\"Good. Just go to the next cell then.\")\n",
        "    pass\n",
        "  elif x == \"own\":\n",
        "    n = 1\n",
        "    own_sentence = input(\"Alright. Please write your sentence here: \")\n",
        "    own_sentence = f\"{n}. {own_sentence} \\n\"\n",
        "    \n",
        "    with open('/content/dc_tts/harvard_sentences.txt', 'w') as f:\n",
        "      f.write(own_sentence)\n",
        "  while True:\n",
        "    more = input(\"Would you like to add another sentence? (y/n): \")\n",
        "    if more == 'y':\n",
        "      n = n + 1 \n",
        "      own_sentence = input(\"Write your sentence here: \")\n",
        "      own_sentence = f\"{n}. {own_sentence} \\n\"\n",
        "      with open('/content/dc_tts/harvard_sentences.txt', 'a') as f:\n",
        "        f.write(own_sentence)\n",
        "    elif more == 'n':\n",
        "      return\n",
        "\n",
        "  return\n",
        "  \n",
        "sentences_to_synthesize()"
      ],
      "execution_count": 49,
      "outputs": [
        {
          "name": "stdout",
          "output_type": "stream",
          "text": [
            "Do you want to use the example sentences or synthesize your own sentences? Please choose(example/own): own\n",
            "Alright. Please write your sentence here: test1\n",
            "Would you like to add another sentence? (y/n): y\n",
            "Write your sentence here: test2\n",
            "Would you like to add another sentence? (y/n): y\n",
            "Write your sentence here: test3\n",
            "Would you like to add another sentence? (y/n): n\n"
          ]
        }
      ]
    },
    {
      "cell_type": "code",
      "metadata": {
        "id": "7jZING1xRSAB"
      },
      "source": [
        "#extract dataset (takes some time)\n",
        "!tar -xvf  '/content/dc_tts/LJSpeech-1.1.tar.bz2' -C '/data/private/voice/'"
      ],
      "execution_count": null,
      "outputs": []
    },
    {
      "cell_type": "code",
      "metadata": {
        "id": "ahRuD0QeLg0X"
      },
      "source": [
        "#manually switch to Tensorflow version 1.x since this is what the repo uses\n",
        "%tensorflow_version 1.x"
      ],
      "execution_count": null,
      "outputs": []
    },
    {
      "cell_type": "code",
      "metadata": {
        "id": "3Zu08oykS-wW"
      },
      "source": [
        "#rename some files so that the code runs\n",
        "!mv /data/private/voice/LJSpeech-1.1/metadata.csv /data/private/voice/LJSpeech-1.1/transcript.csv\n",
        "!mv /data/private/voice/LJSpeech-1.1 /data/private/voice/LJSpeech-1.0"
      ],
      "execution_count": null,
      "outputs": []
    },
    {
      "cell_type": "code",
      "metadata": {
        "id": "54xsUJyMPH1j"
      },
      "source": [
        "!python /content/dc_tts/prepo.py"
      ],
      "execution_count": null,
      "outputs": []
    },
    {
      "cell_type": "code",
      "metadata": {
        "id": "CmLvPecsI3BS"
      },
      "source": [
        "#synthesize the sentences specified in 'harvard_sentences.txt.'\n",
        "!python /content/dc_tts/synthesize.py"
      ],
      "execution_count": null,
      "outputs": []
    }
  ]
}